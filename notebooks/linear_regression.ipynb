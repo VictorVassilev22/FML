{
 "cells": [
  {
   "cell_type": "code",
   "execution_count": 155,
   "metadata": {},
   "outputs": [],
   "source": [
    "import statsmodels.api as sm\n",
    "\n",
    "import sys\n",
    "sys.path.append('../src')\n",
    "\n",
    "from yf_dataset import *\n",
    "from ta_features import *\n",
    "from preprocessing import *\n",
    "\n",
    "from sklearn.preprocessing import StandardScaler\n",
    "from sklearn.preprocessing import MinMaxScaler\n",
    "from sklearn.decomposition import PCA\n",
    "import mlflow\n",
    "import mlflow.sklearn\n",
    "from mlflow.models import infer_signature"
   ]
  },
  {
   "cell_type": "code",
   "execution_count": 156,
   "metadata": {},
   "outputs": [],
   "source": [
    "ticker = 'amd'\n",
    "label = 'AMD'\n",
    "start_date = '2020-01-01'\n",
    "close_price_period = '1d'\n",
    "target_pct_change_period = 35 # n = period"
   ]
  },
  {
   "cell_type": "code",
   "execution_count": 157,
   "metadata": {},
   "outputs": [
    {
     "name": "stdout",
     "output_type": "stream",
     "text": [
      "[*********************100%%**********************]  1 of 1 completed\n"
     ]
    },
    {
     "name": "stderr",
     "output_type": "stream",
     "text": [
      "c:\\Users\\user\\Desktop\\FMLProject\\FML\\notebooks\\../src\\ta_features.py:14: FutureWarning: The default fill_method='pad' in Series.pct_change is deprecated and will be removed in a future version. Call ffill before calling pct_change to retain current behavior and silence this warning.\n",
      "  df[str(period) + 'd_close_future_pct'] = df[str(period) + 'd_future_close'].pct_change(period) #calc future % change\n"
     ]
    },
    {
     "data": {
      "text/html": [
       "<div>\n",
       "<style scoped>\n",
       "    .dataframe tbody tr th:only-of-type {\n",
       "        vertical-align: middle;\n",
       "    }\n",
       "\n",
       "    .dataframe tbody tr th {\n",
       "        vertical-align: top;\n",
       "    }\n",
       "\n",
       "    .dataframe thead th {\n",
       "        text-align: right;\n",
       "    }\n",
       "</style>\n",
       "<table border=\"1\" class=\"dataframe\">\n",
       "  <thead>\n",
       "    <tr style=\"text-align: right;\">\n",
       "      <th></th>\n",
       "      <th>Open</th>\n",
       "      <th>High</th>\n",
       "      <th>Low</th>\n",
       "      <th>Close</th>\n",
       "      <th>Adj_Close</th>\n",
       "      <th>Volume</th>\n",
       "      <th>35d_close_pct</th>\n",
       "      <th>35d_future_close</th>\n",
       "      <th>35d_close_future_pct</th>\n",
       "      <th>sma14</th>\n",
       "      <th>...</th>\n",
       "      <th>rsi14</th>\n",
       "      <th>rsi20</th>\n",
       "      <th>rsi50</th>\n",
       "      <th>rsi100</th>\n",
       "      <th>rsi200</th>\n",
       "      <th>ema14</th>\n",
       "      <th>ema20</th>\n",
       "      <th>ema50</th>\n",
       "      <th>ema100</th>\n",
       "      <th>ema200</th>\n",
       "    </tr>\n",
       "    <tr>\n",
       "      <th>Date</th>\n",
       "      <th></th>\n",
       "      <th></th>\n",
       "      <th></th>\n",
       "      <th></th>\n",
       "      <th></th>\n",
       "      <th></th>\n",
       "      <th></th>\n",
       "      <th></th>\n",
       "      <th></th>\n",
       "      <th></th>\n",
       "      <th></th>\n",
       "      <th></th>\n",
       "      <th></th>\n",
       "      <th></th>\n",
       "      <th></th>\n",
       "      <th></th>\n",
       "      <th></th>\n",
       "      <th></th>\n",
       "      <th></th>\n",
       "      <th></th>\n",
       "      <th></th>\n",
       "    </tr>\n",
       "  </thead>\n",
       "  <tbody>\n",
       "    <tr>\n",
       "      <th>2020-10-16</th>\n",
       "      <td>83.540001</td>\n",
       "      <td>83.989998</td>\n",
       "      <td>82.410004</td>\n",
       "      <td>83.169998</td>\n",
       "      <td>83.169998</td>\n",
       "      <td>31474300</td>\n",
       "      <td>-0.007518</td>\n",
       "      <td>94.070000</td>\n",
       "      <td>0.131057</td>\n",
       "      <td>84.102143</td>\n",
       "      <td>...</td>\n",
       "      <td>52.111559</td>\n",
       "      <td>53.205058</td>\n",
       "      <td>55.600776</td>\n",
       "      <td>55.887095</td>\n",
       "      <td>55.623182</td>\n",
       "      <td>83.344025</td>\n",
       "      <td>82.820769</td>\n",
       "      <td>79.513192</td>\n",
       "      <td>72.896489</td>\n",
       "      <td>60.277129</td>\n",
       "    </tr>\n",
       "    <tr>\n",
       "      <th>2020-10-19</th>\n",
       "      <td>83.620003</td>\n",
       "      <td>84.650002</td>\n",
       "      <td>81.529999</td>\n",
       "      <td>82.000000</td>\n",
       "      <td>82.000000</td>\n",
       "      <td>36689100</td>\n",
       "      <td>-0.041496</td>\n",
       "      <td>92.919998</td>\n",
       "      <td>0.133171</td>\n",
       "      <td>84.118572</td>\n",
       "      <td>...</td>\n",
       "      <td>49.540085</td>\n",
       "      <td>51.476931</td>\n",
       "      <td>54.885511</td>\n",
       "      <td>55.465600</td>\n",
       "      <td>55.328672</td>\n",
       "      <td>83.164822</td>\n",
       "      <td>82.742601</td>\n",
       "      <td>79.610714</td>\n",
       "      <td>73.076756</td>\n",
       "      <td>60.493277</td>\n",
       "    </tr>\n",
       "    <tr>\n",
       "      <th>2020-10-20</th>\n",
       "      <td>82.160004</td>\n",
       "      <td>82.690002</td>\n",
       "      <td>80.580002</td>\n",
       "      <td>81.559998</td>\n",
       "      <td>81.559998</td>\n",
       "      <td>38219400</td>\n",
       "      <td>-0.101960</td>\n",
       "      <td>89.830002</td>\n",
       "      <td>0.101398</td>\n",
       "      <td>84.087857</td>\n",
       "      <td>...</td>\n",
       "      <td>48.569428</td>\n",
       "      <td>50.823449</td>\n",
       "      <td>54.615893</td>\n",
       "      <td>55.307148</td>\n",
       "      <td>55.218169</td>\n",
       "      <td>82.950845</td>\n",
       "      <td>82.629972</td>\n",
       "      <td>79.687156</td>\n",
       "      <td>73.244741</td>\n",
       "      <td>60.702896</td>\n",
       "    </tr>\n",
       "    <tr>\n",
       "      <th>2020-10-21</th>\n",
       "      <td>81.720001</td>\n",
       "      <td>81.930000</td>\n",
       "      <td>79.190002</td>\n",
       "      <td>79.199997</td>\n",
       "      <td>79.199997</td>\n",
       "      <td>36426400</td>\n",
       "      <td>-0.140811</td>\n",
       "      <td>91.660004</td>\n",
       "      <td>0.157323</td>\n",
       "      <td>83.683571</td>\n",
       "      <td>...</td>\n",
       "      <td>43.631438</td>\n",
       "      <td>47.424412</td>\n",
       "      <td>53.185948</td>\n",
       "      <td>54.464189</td>\n",
       "      <td>54.630017</td>\n",
       "      <td>82.450732</td>\n",
       "      <td>82.303308</td>\n",
       "      <td>79.668052</td>\n",
       "      <td>73.362667</td>\n",
       "      <td>60.886947</td>\n",
       "    </tr>\n",
       "    <tr>\n",
       "      <th>2020-10-22</th>\n",
       "      <td>79.650002</td>\n",
       "      <td>80.820000</td>\n",
       "      <td>78.419998</td>\n",
       "      <td>79.419998</td>\n",
       "      <td>79.419998</td>\n",
       "      <td>38006800</td>\n",
       "      <td>-0.119707</td>\n",
       "      <td>91.650002</td>\n",
       "      <td>0.153991</td>\n",
       "      <td>83.513571</td>\n",
       "      <td>...</td>\n",
       "      <td>44.200962</td>\n",
       "      <td>47.767199</td>\n",
       "      <td>53.302249</td>\n",
       "      <td>54.529447</td>\n",
       "      <td>54.675248</td>\n",
       "      <td>82.046634</td>\n",
       "      <td>82.028707</td>\n",
       "      <td>79.658324</td>\n",
       "      <td>73.482614</td>\n",
       "      <td>61.071355</td>\n",
       "    </tr>\n",
       "    <tr>\n",
       "      <th>...</th>\n",
       "      <td>...</td>\n",
       "      <td>...</td>\n",
       "      <td>...</td>\n",
       "      <td>...</td>\n",
       "      <td>...</td>\n",
       "      <td>...</td>\n",
       "      <td>...</td>\n",
       "      <td>...</td>\n",
       "      <td>...</td>\n",
       "      <td>...</td>\n",
       "      <td>...</td>\n",
       "      <td>...</td>\n",
       "      <td>...</td>\n",
       "      <td>...</td>\n",
       "      <td>...</td>\n",
       "      <td>...</td>\n",
       "      <td>...</td>\n",
       "      <td>...</td>\n",
       "      <td>...</td>\n",
       "      <td>...</td>\n",
       "      <td>...</td>\n",
       "    </tr>\n",
       "    <tr>\n",
       "      <th>2023-09-28</th>\n",
       "      <td>97.940002</td>\n",
       "      <td>104.199997</td>\n",
       "      <td>97.760002</td>\n",
       "      <td>102.760002</td>\n",
       "      <td>102.760002</td>\n",
       "      <td>72542100</td>\n",
       "      <td>-0.069793</td>\n",
       "      <td>119.830002</td>\n",
       "      <td>0.166115</td>\n",
       "      <td>101.232856</td>\n",
       "      <td>...</td>\n",
       "      <td>49.130540</td>\n",
       "      <td>47.565716</td>\n",
       "      <td>48.998043</td>\n",
       "      <td>50.620128</td>\n",
       "      <td>50.764643</td>\n",
       "      <td>100.877195</td>\n",
       "      <td>102.059869</td>\n",
       "      <td>105.538720</td>\n",
       "      <td>104.908701</td>\n",
       "      <td>99.946702</td>\n",
       "    </tr>\n",
       "    <tr>\n",
       "      <th>2023-09-29</th>\n",
       "      <td>104.690002</td>\n",
       "      <td>104.940002</td>\n",
       "      <td>102.559998</td>\n",
       "      <td>102.820000</td>\n",
       "      <td>102.820000</td>\n",
       "      <td>56027300</td>\n",
       "      <td>-0.067223</td>\n",
       "      <td>120.620003</td>\n",
       "      <td>0.173118</td>\n",
       "      <td>101.054285</td>\n",
       "      <td>...</td>\n",
       "      <td>49.243217</td>\n",
       "      <td>47.643611</td>\n",
       "      <td>49.025924</td>\n",
       "      <td>50.633374</td>\n",
       "      <td>50.771122</td>\n",
       "      <td>101.136236</td>\n",
       "      <td>102.132262</td>\n",
       "      <td>105.432104</td>\n",
       "      <td>104.867340</td>\n",
       "      <td>99.975292</td>\n",
       "    </tr>\n",
       "    <tr>\n",
       "      <th>2023-10-02</th>\n",
       "      <td>102.209999</td>\n",
       "      <td>103.709999</td>\n",
       "      <td>101.699997</td>\n",
       "      <td>103.269997</td>\n",
       "      <td>103.269997</td>\n",
       "      <td>45118600</td>\n",
       "      <td>-0.039974</td>\n",
       "      <td>121.529999</td>\n",
       "      <td>0.176818</td>\n",
       "      <td>100.908570</td>\n",
       "      <td>...</td>\n",
       "      <td>50.135356</td>\n",
       "      <td>48.250562</td>\n",
       "      <td>49.238297</td>\n",
       "      <td>50.733488</td>\n",
       "      <td>50.819907</td>\n",
       "      <td>101.420737</td>\n",
       "      <td>102.240618</td>\n",
       "      <td>105.347315</td>\n",
       "      <td>104.835710</td>\n",
       "      <td>100.008075</td>\n",
       "    </tr>\n",
       "    <tr>\n",
       "      <th>2023-10-03</th>\n",
       "      <td>101.800003</td>\n",
       "      <td>103.290001</td>\n",
       "      <td>99.169998</td>\n",
       "      <td>100.080002</td>\n",
       "      <td>100.080002</td>\n",
       "      <td>48117000</td>\n",
       "      <td>-0.106269</td>\n",
       "      <td>119.160004</td>\n",
       "      <td>0.190647</td>\n",
       "      <td>100.363571</td>\n",
       "      <td>...</td>\n",
       "      <td>44.203864</td>\n",
       "      <td>44.408970</td>\n",
       "      <td>47.797797</td>\n",
       "      <td>50.007310</td>\n",
       "      <td>50.463617</td>\n",
       "      <td>101.241972</td>\n",
       "      <td>102.034845</td>\n",
       "      <td>105.140754</td>\n",
       "      <td>104.741537</td>\n",
       "      <td>100.008790</td>\n",
       "    </tr>\n",
       "    <tr>\n",
       "      <th>2023-10-04</th>\n",
       "      <td>100.650002</td>\n",
       "      <td>104.400002</td>\n",
       "      <td>100.339996</td>\n",
       "      <td>104.070000</td>\n",
       "      <td>104.070000</td>\n",
       "      <td>51023200</td>\n",
       "      <td>-0.065379</td>\n",
       "      <td>122.510002</td>\n",
       "      <td>0.177188</td>\n",
       "      <td>100.180714</td>\n",
       "      <td>...</td>\n",
       "      <td>51.873451</td>\n",
       "      <td>49.683441</td>\n",
       "      <td>49.676832</td>\n",
       "      <td>50.895322</td>\n",
       "      <td>50.896373</td>\n",
       "      <td>101.619043</td>\n",
       "      <td>102.228669</td>\n",
       "      <td>105.098763</td>\n",
       "      <td>104.728240</td>\n",
       "      <td>100.049200</td>\n",
       "    </tr>\n",
       "  </tbody>\n",
       "</table>\n",
       "<p>746 rows × 24 columns</p>\n",
       "</div>"
      ],
      "text/plain": [
       "                  Open        High         Low       Close   Adj_Close  \\\n",
       "Date                                                                     \n",
       "2020-10-16   83.540001   83.989998   82.410004   83.169998   83.169998   \n",
       "2020-10-19   83.620003   84.650002   81.529999   82.000000   82.000000   \n",
       "2020-10-20   82.160004   82.690002   80.580002   81.559998   81.559998   \n",
       "2020-10-21   81.720001   81.930000   79.190002   79.199997   79.199997   \n",
       "2020-10-22   79.650002   80.820000   78.419998   79.419998   79.419998   \n",
       "...                ...         ...         ...         ...         ...   \n",
       "2023-09-28   97.940002  104.199997   97.760002  102.760002  102.760002   \n",
       "2023-09-29  104.690002  104.940002  102.559998  102.820000  102.820000   \n",
       "2023-10-02  102.209999  103.709999  101.699997  103.269997  103.269997   \n",
       "2023-10-03  101.800003  103.290001   99.169998  100.080002  100.080002   \n",
       "2023-10-04  100.650002  104.400002  100.339996  104.070000  104.070000   \n",
       "\n",
       "              Volume  35d_close_pct  35d_future_close  35d_close_future_pct  \\\n",
       "Date                                                                          \n",
       "2020-10-16  31474300      -0.007518         94.070000              0.131057   \n",
       "2020-10-19  36689100      -0.041496         92.919998              0.133171   \n",
       "2020-10-20  38219400      -0.101960         89.830002              0.101398   \n",
       "2020-10-21  36426400      -0.140811         91.660004              0.157323   \n",
       "2020-10-22  38006800      -0.119707         91.650002              0.153991   \n",
       "...              ...            ...               ...                   ...   \n",
       "2023-09-28  72542100      -0.069793        119.830002              0.166115   \n",
       "2023-09-29  56027300      -0.067223        120.620003              0.173118   \n",
       "2023-10-02  45118600      -0.039974        121.529999              0.176818   \n",
       "2023-10-03  48117000      -0.106269        119.160004              0.190647   \n",
       "2023-10-04  51023200      -0.065379        122.510002              0.177188   \n",
       "\n",
       "                 sma14  ...      rsi14      rsi20      rsi50     rsi100  \\\n",
       "Date                    ...                                               \n",
       "2020-10-16   84.102143  ...  52.111559  53.205058  55.600776  55.887095   \n",
       "2020-10-19   84.118572  ...  49.540085  51.476931  54.885511  55.465600   \n",
       "2020-10-20   84.087857  ...  48.569428  50.823449  54.615893  55.307148   \n",
       "2020-10-21   83.683571  ...  43.631438  47.424412  53.185948  54.464189   \n",
       "2020-10-22   83.513571  ...  44.200962  47.767199  53.302249  54.529447   \n",
       "...                ...  ...        ...        ...        ...        ...   \n",
       "2023-09-28  101.232856  ...  49.130540  47.565716  48.998043  50.620128   \n",
       "2023-09-29  101.054285  ...  49.243217  47.643611  49.025924  50.633374   \n",
       "2023-10-02  100.908570  ...  50.135356  48.250562  49.238297  50.733488   \n",
       "2023-10-03  100.363571  ...  44.203864  44.408970  47.797797  50.007310   \n",
       "2023-10-04  100.180714  ...  51.873451  49.683441  49.676832  50.895322   \n",
       "\n",
       "               rsi200       ema14       ema20       ema50      ema100  \\\n",
       "Date                                                                    \n",
       "2020-10-16  55.623182   83.344025   82.820769   79.513192   72.896489   \n",
       "2020-10-19  55.328672   83.164822   82.742601   79.610714   73.076756   \n",
       "2020-10-20  55.218169   82.950845   82.629972   79.687156   73.244741   \n",
       "2020-10-21  54.630017   82.450732   82.303308   79.668052   73.362667   \n",
       "2020-10-22  54.675248   82.046634   82.028707   79.658324   73.482614   \n",
       "...               ...         ...         ...         ...         ...   \n",
       "2023-09-28  50.764643  100.877195  102.059869  105.538720  104.908701   \n",
       "2023-09-29  50.771122  101.136236  102.132262  105.432104  104.867340   \n",
       "2023-10-02  50.819907  101.420737  102.240618  105.347315  104.835710   \n",
       "2023-10-03  50.463617  101.241972  102.034845  105.140754  104.741537   \n",
       "2023-10-04  50.896373  101.619043  102.228669  105.098763  104.728240   \n",
       "\n",
       "                ema200  \n",
       "Date                    \n",
       "2020-10-16   60.277129  \n",
       "2020-10-19   60.493277  \n",
       "2020-10-20   60.702896  \n",
       "2020-10-21   60.886947  \n",
       "2020-10-22   61.071355  \n",
       "...                ...  \n",
       "2023-09-28   99.946702  \n",
       "2023-09-29   99.975292  \n",
       "2023-10-02  100.008075  \n",
       "2023-10-03  100.008790  \n",
       "2023-10-04  100.049200  \n",
       "\n",
       "[746 rows x 24 columns]"
      ]
     },
     "execution_count": 157,
     "metadata": {},
     "output_type": "execute_result"
    }
   ],
   "source": [
    "amd_df = get_stock_data(ticker, start_date, period=close_price_period)\n",
    "format_col_names(amd_df)\n",
    "add_pct_ch_and_future(amd_df, period = target_pct_change_period)\n",
    "add_sma(amd_df, [14, 20, 50, 100, 200])\n",
    "add_rsi(amd_df, [14, 20, 50, 100, 200])\n",
    "add_ema(amd_df, [14, 20, 50, 100, 200])\n",
    "# TODO: add more features (volume)\n",
    "# Other models we're about to use will be able to learn non-linear relationships between the features and targets. This includes random forests, gradient boosting, and neural networks.\n",
    "amd_df.dropna(inplace=True)\n",
    "amd_df"
   ]
  },
  {
   "cell_type": "code",
   "execution_count": 158,
   "metadata": {},
   "outputs": [
    {
     "data": {
      "image/png": "[encoded data removed]",
      "text/plain": [
       "<Figure size 1500x900 with 1 Axes>"
      ]
     },
     "metadata": {},
     "output_type": "display_data"
    }
   ],
   "source": [
    "# Plotting\n",
    "plt.figure(figsize=(15, 9))\n",
    "\n",
    "# Plot Adj_Close\n",
    "plt.plot(amd_df['Adj_Close'], label='Adj_Close', color='blue')\n",
    "\n",
    "# Add labels and title\n",
    "plt.xlabel('Date')\n",
    "plt.ylabel('Price')\n",
    "plt.title('Adj_Close')\n",
    "plt.legend()\n",
    "plt.grid(True)\n",
    "plt.show()"
   ]
  },
  {
   "cell_type": "code",
   "execution_count": 159,
   "metadata": {},
   "outputs": [
    {
     "data": {
      "text/plain": [
       "Index(['Open', 'High', 'Low', 'Close', 'Adj_Close', 'Volume', '35d_close_pct',\n",
       "       '35d_future_close', '35d_close_future_pct', 'sma14', 'sma20', 'sma50',\n",
       "       'sma100', 'sma200', 'rsi14', 'rsi20', 'rsi50', 'rsi100', 'rsi200',\n",
       "       'ema14', 'ema20', 'ema50', 'ema100', 'ema200'],\n",
       "      dtype='object')"
      ]
     },
     "execution_count": 159,
     "metadata": {},
     "output_type": "execute_result"
    }
   ],
   "source": [
    "amd_df.columns"
   ]
  },
  {
   "cell_type": "code",
   "execution_count": 160,
   "metadata": {},
   "outputs": [],
   "source": [
    "features, target = split_features_target(amd_df, f'{target_pct_change_period}d_close_future_pct', [f'{target_pct_change_period}d_future_close',f'{target_pct_change_period}d_close_pct'])"
   ]
  },
  {
   "cell_type": "code",
   "execution_count": 161,
   "metadata": {},
   "outputs": [
    {
     "data": {
      "text/plain": [
       "((746, 21), (746,))"
      ]
     },
     "execution_count": 161,
     "metadata": {},
     "output_type": "execute_result"
    }
   ],
   "source": [
    "X = amd_df[features]\n",
    "y = amd_df[target]\n",
    "X.shape,y.shape"
   ]
  },
  {
   "cell_type": "code",
   "execution_count": 162,
   "metadata": {},
   "outputs": [
    {
     "name": "stderr",
     "output_type": "stream",
     "text": [
      "c:\\Users\\user\\anaconda3\\envs\\financial_ml_env\\Lib\\site-packages\\sklearn\\utils\\validation.py:767: FutureWarning: is_sparse is deprecated and will be removed in a future version. Check `isinstance(dtype, pd.SparseDtype)` instead.\n",
      "  if not hasattr(array, \"sparse\") and array.dtypes.apply(is_sparse).any():\n",
      "c:\\Users\\user\\anaconda3\\envs\\financial_ml_env\\Lib\\site-packages\\sklearn\\utils\\validation.py:605: FutureWarning: is_sparse is deprecated and will be removed in a future version. Check `isinstance(dtype, pd.SparseDtype)` instead.\n",
      "  if is_sparse(pd_dtype):\n",
      "c:\\Users\\user\\anaconda3\\envs\\financial_ml_env\\Lib\\site-packages\\sklearn\\utils\\validation.py:614: FutureWarning: is_sparse is deprecated and will be removed in a future version. Check `isinstance(dtype, pd.SparseDtype)` instead.\n",
      "  if is_sparse(pd_dtype) or not is_extension_array_dtype(pd_dtype):\n",
      "c:\\Users\\user\\anaconda3\\envs\\financial_ml_env\\Lib\\site-packages\\sklearn\\utils\\validation.py:767: FutureWarning: is_sparse is deprecated and will be removed in a future version. Check `isinstance(dtype, pd.SparseDtype)` instead.\n",
      "  if not hasattr(array, \"sparse\") and array.dtypes.apply(is_sparse).any():\n",
      "c:\\Users\\user\\anaconda3\\envs\\financial_ml_env\\Lib\\site-packages\\sklearn\\utils\\validation.py:605: FutureWarning: is_sparse is deprecated and will be removed in a future version. Check `isinstance(dtype, pd.SparseDtype)` instead.\n",
      "  if is_sparse(pd_dtype):\n",
      "c:\\Users\\user\\anaconda3\\envs\\financial_ml_env\\Lib\\site-packages\\sklearn\\utils\\validation.py:614: FutureWarning: is_sparse is deprecated and will be removed in a future version. Check `isinstance(dtype, pd.SparseDtype)` instead.\n",
      "  if is_sparse(pd_dtype) or not is_extension_array_dtype(pd_dtype):\n"
     ]
    },
    {
     "data": {
      "text/plain": [
       "(746, 21)"
      ]
     },
     "execution_count": 162,
     "metadata": {},
     "output_type": "execute_result"
    }
   ],
   "source": [
    "scaler = StandardScaler()\n",
    "# pca = PCA(n_components=20)\n",
    "\n",
    "X = scaler.fit_transform(X)\n",
    "# X = pca.fit_transform(X)\n",
    "X.shape"
   ]
  },
  {
   "cell_type": "code",
   "execution_count": 163,
   "metadata": {},
   "outputs": [
    {
     "data": {
      "text/plain": [
       "array([[ 1.        , -0.59760254, -0.65370828, ..., -0.86116441,\n",
       "        -1.3146444 , -2.13220556],\n",
       "       [ 1.        , -0.59374322, -0.62261274, ..., -0.8557571 ,\n",
       "        -1.30328747, -2.11698377],\n",
       "       [ 1.        , -0.66417405, -0.71495652, ..., -0.85151859,\n",
       "        -1.29270435, -2.10222176],\n",
       "       ...,\n",
       "       [ 1.        ,  0.30304426,  0.27538368, ...,  0.57126268,\n",
       "         0.69754008,  0.66576722],\n",
       "       [ 1.        ,  0.28326592,  0.25559581, ...,  0.55980946,\n",
       "         0.69160718,  0.66581762],\n",
       "       [ 1.        ,  0.22778947,  0.30789259, ...,  0.55748121,\n",
       "         0.69076942,  0.66866341]])"
      ]
     },
     "execution_count": 163,
     "metadata": {},
     "output_type": "execute_result"
    }
   ],
   "source": [
    "X = sm.add_constant(X)\n",
    "X"
   ]
  },
  {
   "cell_type": "code",
   "execution_count": 164,
   "metadata": {},
   "outputs": [],
   "source": [
    "X_train, y_train, X_test, y_test = train_test_split(0.85, X, y)"
   ]
  },
  {
   "cell_type": "code",
   "execution_count": 165,
   "metadata": {},
   "outputs": [
    {
     "name": "stdout",
     "output_type": "stream",
     "text": [
      "                             OLS Regression Results                             \n",
      "================================================================================\n",
      "Dep. Variable:     35d_close_future_pct   R-squared:                       0.448\n",
      "Model:                              OLS   Adj. R-squared:                  0.430\n",
      "Method:                   Least Squares   F-statistic:                     24.88\n",
      "Date:                  Fri, 24 Nov 2023   Prob (F-statistic):           4.52e-66\n",
      "Time:                          00:31:39   Log-Likelihood:                 354.46\n",
      "No. Observations:                   634   AIC:                            -666.9\n",
      "Df Residuals:                       613   BIC:                            -573.4\n",
      "Df Model:                            20                                         \n",
      "Covariance Type:              nonrobust                                         \n",
      "==============================================================================\n",
      "                 coef    std err          t      P>|t|      [0.025      0.975]\n",
      "------------------------------------------------------------------------------\n",
      "const          0.0509      0.011      4.775      0.000       0.030       0.072\n",
      "x1             0.0299      0.107      0.280      0.779      -0.180       0.240\n",
      "x2             0.0616      0.136      0.454      0.650      -0.205       0.328\n",
      "x3            -0.0449      0.132     -0.340      0.734      -0.305       0.215\n",
      "x4            -0.1436      0.059     -2.435      0.015      -0.259      -0.028\n",
      "x5            -0.1436      0.059     -2.435      0.015      -0.259      -0.028\n",
      "x6            -0.0652      0.011     -5.896      0.000      -0.087      -0.044\n",
      "x7             0.0160      0.141      0.113      0.910      -0.262       0.294\n",
      "x8             0.0507      0.165      0.307      0.759      -0.273       0.375\n",
      "x9             0.4643      0.142      3.265      0.001       0.185       0.744\n",
      "x10           -0.1695      0.109     -1.557      0.120      -0.383       0.044\n",
      "x11           -0.2624      0.079     -3.336      0.001      -0.417      -0.108\n",
      "x12           -0.5990      0.178     -3.359      0.001      -0.949      -0.249\n",
      "x13            0.8220      0.310      2.648      0.008       0.212       1.432\n",
      "x14           -0.5575      0.399     -1.396      0.163      -1.342       0.227\n",
      "x15            1.0175      0.497      2.047      0.041       0.041       1.994\n",
      "x16           -0.4126      0.227     -1.821      0.069      -0.857       0.032\n",
      "x17           -0.6669      0.747     -0.893      0.372      -2.134       0.800\n",
      "x18            0.6398      1.174      0.545      0.586      -1.666       2.946\n",
      "x19           -1.2200      0.863     -1.414      0.158      -2.915       0.475\n",
      "x20            0.8594      0.538      1.596      0.111      -0.198       1.917\n",
      "x21            0.3048      0.095      3.218      0.001       0.119       0.491\n",
      "==============================================================================\n",
      "Omnibus:                       10.242   Durbin-Watson:                   0.144\n",
      "Prob(Omnibus):                  0.006   Jarque-Bera (JB):               10.947\n",
      "Skew:                           0.249   Prob(JB):                      0.00420\n",
      "Kurtosis:                       3.407   Cond. No.                     2.30e+17\n",
      "==============================================================================\n",
      "\n",
      "Notes:\n",
      "[1] Standard Errors assume that the covariance matrix of the errors is correctly specified.\n",
      "[2] The smallest eigenvalue is 1.76e-31. This might indicate that there are\n",
      "strong multicollinearity problems or that the design matrix is singular.\n"
     ]
    }
   ],
   "source": [
    "model = sm.OLS(y_train, X_train)\n",
    "result = model.fit()\n",
    "print(result.summary())"
   ]
  },
  {
   "cell_type": "code",
   "execution_count": 166,
   "metadata": {},
   "outputs": [],
   "source": [
    "# plt.bar(range(1, len(pca.explained_variance_ratio_) + 1), pca.explained_variance_ratio_)\n",
    "# plt.xlabel('Principal Component')\n",
    "# plt.ylabel('Explained Variance Ratio')\n",
    "# plt.title('Explained Variance Ratio for Each Principal Component')\n",
    "# plt.show()"
   ]
  },
  {
   "cell_type": "code",
   "execution_count": 167,
   "metadata": {},
   "outputs": [
    {
     "data": {
      "text/plain": [
       "'35d_close_future_pct'"
      ]
     },
     "execution_count": 167,
     "metadata": {},
     "output_type": "execute_result"
    }
   ],
   "source": [
    "dependent_variable_name = result.model.endog_names\n",
    "dependent_variable_name"
   ]
  },
  {
   "cell_type": "code",
   "execution_count": 168,
   "metadata": {},
   "outputs": [
    {
     "name": "stderr",
     "output_type": "stream",
     "text": [
      "Registered model 'ols_simple_model' already exists. Creating a new version of this model...\n",
      "2023/11/24 00:31:41 INFO mlflow.tracking._model_registry.client: Waiting up to 300 seconds for model version to finish creation. Model name: ols_simple_model, version 2\n",
      "Created version '2' of model 'ols_simple_model'.\n"
     ]
    }
   ],
   "source": [
    "# Log the experiment with MLflow\n",
    "with mlflow.start_run():\n",
    "\n",
    "    # Log parameters\n",
    "    mlflow.log_param(\"scaling_method\", \"StandardScaler\" if isinstance(scaler, StandardScaler) else \"MinMaxScaler\")\n",
    "    mlflow.log_param(\"start_date\", start_date)\n",
    "    mlflow.log_param(\"target_variable\", dependent_variable_name)\n",
    "    mlflow.log_param(\"features\", features)\n",
    "    # mlflow.log_param(\"pca_components\", pca.n_components_)\n",
    "\n",
    "    # Log metrics\n",
    "    rsquared = result.rsquared\n",
    "    mlflow.log_metric(\"r-squared\", rsquared)\n",
    "\n",
    "     # Set a tag that we can use to remind ourselves what this run was for\n",
    "    mlflow.set_tag(\"Model info\", \"Basic OLS model for stock data\")\n",
    "\n",
    "    # Infer the model signature\n",
    "    signature = infer_signature(X_train, result.predict(X_train))\n",
    "\n",
    "    # Log the model\n",
    "    model_info = mlflow.sklearn.log_model(\n",
    "        sk_model=result,\n",
    "        artifact_path=\"ols_model\",\n",
    "        signature=signature,\n",
    "        input_example=X_train,\n",
    "        registered_model_name=\"ols_simple_model\",\n",
    "    )"
   ]
  },
  {
   "cell_type": "code",
   "execution_count": 169,
   "metadata": {},
   "outputs": [],
   "source": [
    "# Make predictions from our model for train and test sets\n",
    "pred_train = result.predict(X_train)\n",
    "pred_test = result.predict(X_test)"
   ]
  },
  {
   "cell_type": "code",
   "execution_count": 170,
   "metadata": {},
   "outputs": [
    {
     "data": {
      "text/plain": [
       "<function isinstance(obj, class_or_tuple, /)>"
      ]
     },
     "execution_count": 170,
     "metadata": {},
     "output_type": "execute_result"
    }
   ],
   "source": [
    "isinstance"
   ]
  },
  {
   "cell_type": "code",
   "execution_count": 179,
   "metadata": {},
   "outputs": [
    {
     "data": {
      "image/png": "[encoded data removed]",
      "text/plain": [
       "<Figure size 640x480 with 1 Axes>"
      ]
     },
     "metadata": {},
     "output_type": "display_data"
    }
   ],
   "source": [
    "# Scatter the predictions vs the targets with 20% opacity\n",
    "# plt.scatter(pred_train, y_train, alpha=0.2, color='b', label='train')\n",
    "plt.scatter(pred_test, y_test, alpha=0.2, color='r', label='test')\n",
    "\n",
    "# Plot the perfect prediction line\n",
    "xmin, xmax = plt.xlim()\n",
    "ymin, ymax = plt.ylim()\n",
    "perfect_line = np.arange(min(xmin, ymin), max(xmax, ymax), 0.01)\n",
    "plt.plot(perfect_line, perfect_line, c='k')\n",
    "\n",
    "# Set the same limits on x and y axes\n",
    "plt.xlim([min(xmin, ymin), max(xmax, ymax)])\n",
    "plt.ylim([min(xmin, ymin), max(xmax, ymax)])\n",
    "\n",
    "# Set the axis labels and show the plot\n",
    "plt.xlabel('predictions')\n",
    "plt.ylabel('actual')\n",
    "plt.legend()  # show the legend\n",
    "plt.show()"
   ]
  }
 ],
 "metadata": {
  "kernelspec": {
   "display_name": "financial_ml_env",
   "language": "python",
   "name": "python3"
  },
  "language_info": {
   "codemirror_mode": {
    "name": "ipython",
    "version": 3
   },
   "file_extension": ".py",
   "mimetype": "text/x-python",
   "name": "python",
   "nbconvert_exporter": "python",
   "pygments_lexer": "ipython3",
   "version": "3.11.5"
  }
 },
 "nbformat": 4,
 "nbformat_minor": 2
}
